{
 "cells": [
  {
   "cell_type": "code",
   "execution_count": 1,
   "id": "bb28e271",
   "metadata": {},
   "outputs": [],
   "source": [
    "# Copyright 2022 NVIDIA Corporation. All Rights Reserved.\n",
    "#\n",
    "# Licensed under the Apache License, Version 2.0 (the \"License\");\n",
    "# you may not use this file except in compliance with the License.\n",
    "# You may obtain a copy of the License at\n",
    "#\n",
    "#     http://www.apache.org/licenses/LICENSE-2.0\n",
    "#\n",
    "# Unless required by applicable law or agreed to in writing, software\n",
    "# distributed under the License is distributed on an \"AS IS\" BASIS,\n",
    "# WITHOUT WARRANTIES OR CONDITIONS OF ANY KIND, either express or implied.\n",
    "# See the License for the specific language governing permissions and\n",
    "# limitations under the License.\n",
    "# =============================================================================="
   ]
  },
  {
   "cell_type": "markdown",
   "id": "77464844",
   "metadata": {},
   "source": [
    "<img src=\"http://developer.download.nvidia.com/compute/machine-learning/frameworks/nvidia_logo.png\" style=\"width: 90px; float: right;\">\n",
    "\n",
    "# Getting Started with Merlin dataloader\n",
    "\n",
    "This notebook is created using the latest stable [merlin-tensorflow](https://catalog.ngc.nvidia.com/orgs/nvidia/teams/merlin/containers/merlin-tensorflow) container.\n",
    "\n",
    "## Overview\n",
    "\n",
    "[Merlin dataloader](https://github.com/NVIDIA-Merlin/dataloader) is a library for constructing highly optimized dataloaders to accelerate training pipelines in TensorFlow (Keras) and PyTorch. In this example, we will provide a simple pipeline to train a MatrixFactorization Model in TensorFlow with Merlin dataloader based on the MovieLens dataset.\n",
    "\n",
    "The core features of Merlin dataloader:\n",
    "\n",
    "- Accelerate pipelines by upto 10x compared to other dataloaders\n",
    "- Handles larger than memory dataset by streaming data from disk\n",
    "- Support for common data formats: CSV, Parquet, Avro\n",
    "- Distributed training support\n",
    "\n",
    "### Learning objectives\n",
    "\n",
    "- Using Merlin dataloader to train a TensorFlow Keras Model"
   ]
  },
  {
   "cell_type": "markdown",
   "id": "1c5598ae",
   "metadata": {},
   "source": [
    "# Downloading and preparing the dataset\n",
    "\n",
    "We will base our example on the  [MovieLens25M](https://grouplens.org/datasets/movielens/25m/) dataset."
   ]
  },
  {
   "cell_type": "code",
   "execution_count": 1,
   "id": "edd46306",
   "metadata": {},
   "outputs": [
    {
     "name": "stderr",
     "output_type": "stream",
     "text": [
      "/usr/lib/python3/dist-packages/requests/__init__.py:89: RequestsDependencyWarning: urllib3 (1.26.12) or chardet (3.0.4) doesn't match a supported version!\n",
      "  warnings.warn(\"urllib3 ({}) or chardet ({}) doesn't match a supported \"\n",
      "2022-11-17 04:35:13.858869: I tensorflow/stream_executor/cuda/cuda_gpu_executor.cc:991] successful NUMA node read from SysFS had negative value (-1), but there must be at least one NUMA node, so returning NUMA node zero\n",
      "2022-11-17 04:35:13.859289: I tensorflow/stream_executor/cuda/cuda_gpu_executor.cc:991] successful NUMA node read from SysFS had negative value (-1), but there must be at least one NUMA node, so returning NUMA node zero\n",
      "2022-11-17 04:35:13.859460: I tensorflow/stream_executor/cuda/cuda_gpu_executor.cc:991] successful NUMA node read from SysFS had negative value (-1), but there must be at least one NUMA node, so returning NUMA node zero\n"
     ]
    }
   ],
   "source": [
    "from merlin.core.utils import download_file\n",
    "from merlin.core.dispatch import get_lib\n",
    "\n",
    "from merlin.io import Dataset\n",
    "from merlin.loader.tensorflow import Loader\n",
    "\n",
    "import tensorflow as tf"
   ]
  },
  {
   "cell_type": "code",
   "execution_count": 2,
   "id": "6f85e073",
   "metadata": {},
   "outputs": [
    {
     "name": "stderr",
     "output_type": "stream",
     "text": [
      "downloading ml-25m.zip: 262MB [00:59, 4.43MB/s]                                                                                                                                                                                                                                                                                                                                           \n",
      "unzipping files: 100%|███████████████████████████████████████████████████████████████████████████████████████████████████████████████████████████████████████████████████████████████████████████████████████████████████████████████████████████████████████████████████████████████████████████████████████████████████████████████████████████████████| 8/8 [00:04<00:00,  1.95files/s]\n"
     ]
    }
   ],
   "source": [
    "download_file(\"http://files.grouplens.org/datasets/movielens/ml-25m.zip\", \"ml-25m.zip\")"
   ]
  },
  {
   "cell_type": "markdown",
   "id": "abc70934",
   "metadata": {},
   "source": [
    "# Training a TensorFlow Keras Model with Merlin dataloader"
   ]
  },
  {
   "cell_type": "code",
   "execution_count": 2,
   "id": "c65e5ef6",
   "metadata": {},
   "outputs": [
    {
     "data": {
      "text/html": [
       "<div>\n",
       "<style scoped>\n",
       "    .dataframe tbody tr th:only-of-type {\n",
       "        vertical-align: middle;\n",
       "    }\n",
       "\n",
       "    .dataframe tbody tr th {\n",
       "        vertical-align: top;\n",
       "    }\n",
       "\n",
       "    .dataframe thead th {\n",
       "        text-align: right;\n",
       "    }\n",
       "</style>\n",
       "<table border=\"1\" class=\"dataframe\">\n",
       "  <thead>\n",
       "    <tr style=\"text-align: right;\">\n",
       "      <th></th>\n",
       "      <th>userId</th>\n",
       "      <th>movieId</th>\n",
       "      <th>rating</th>\n",
       "      <th>timestamp</th>\n",
       "    </tr>\n",
       "  </thead>\n",
       "  <tbody>\n",
       "    <tr>\n",
       "      <th>0</th>\n",
       "      <td>1</td>\n",
       "      <td>296</td>\n",
       "      <td>5.0</td>\n",
       "      <td>1147880044</td>\n",
       "    </tr>\n",
       "    <tr>\n",
       "      <th>1</th>\n",
       "      <td>1</td>\n",
       "      <td>306</td>\n",
       "      <td>3.5</td>\n",
       "      <td>1147868817</td>\n",
       "    </tr>\n",
       "    <tr>\n",
       "      <th>2</th>\n",
       "      <td>1</td>\n",
       "      <td>307</td>\n",
       "      <td>5.0</td>\n",
       "      <td>1147868828</td>\n",
       "    </tr>\n",
       "    <tr>\n",
       "      <th>3</th>\n",
       "      <td>1</td>\n",
       "      <td>665</td>\n",
       "      <td>5.0</td>\n",
       "      <td>1147878820</td>\n",
       "    </tr>\n",
       "    <tr>\n",
       "      <th>4</th>\n",
       "      <td>1</td>\n",
       "      <td>899</td>\n",
       "      <td>3.5</td>\n",
       "      <td>1147868510</td>\n",
       "    </tr>\n",
       "  </tbody>\n",
       "</table>\n",
       "</div>"
      ],
      "text/plain": [
       "   userId  movieId  rating   timestamp\n",
       "0       1      296     5.0  1147880044\n",
       "1       1      306     3.5  1147868817\n",
       "2       1      307     5.0  1147868828\n",
       "3       1      665     5.0  1147878820\n",
       "4       1      899     3.5  1147868510"
      ]
     },
     "execution_count": 2,
     "metadata": {},
     "output_type": "execute_result"
    }
   ],
   "source": [
    "ratings = get_lib().read_csv('ml-25m/ratings.csv')\n",
    "ratings.head()"
   ]
  },
  {
   "cell_type": "markdown",
   "id": "daffce3a",
   "metadata": {},
   "source": [
    "The `ratings.csv` file stores ratings a user has given a movie. Let's load the data directly from disk into a `Merlin Dataset` and train a simple `MatrixFactorization` model that we will construct in `Tensorflow`."
   ]
  },
  {
   "cell_type": "code",
   "execution_count": 3,
   "id": "e26b46ff",
   "metadata": {},
   "outputs": [],
   "source": [
    "dataset = Dataset('ml-25m/ratings.csv')"
   ]
  },
  {
   "cell_type": "markdown",
   "id": "71d53c8a",
   "metadata": {},
   "source": [
    "Let us now instantiate the `dataloader`."
   ]
  },
  {
   "cell_type": "code",
   "execution_count": 4,
   "id": "0c60070e",
   "metadata": {},
   "outputs": [],
   "source": [
    "loader = Loader(dataset, batch_size=65536)"
   ]
  },
  {
   "cell_type": "markdown",
   "id": "a352265c",
   "metadata": {},
   "source": [
    "As is, the `loader` will output a batch that will consist of a tuple with dictionary with tensors and `None`."
   ]
  },
  {
   "cell_type": "code",
   "execution_count": 5,
   "id": "dc8b31ab",
   "metadata": {},
   "outputs": [
    {
     "name": "stderr",
     "output_type": "stream",
     "text": [
      "2022-11-17 04:35:20.196327: I tensorflow/core/platform/cpu_feature_guard.cc:194] This TensorFlow binary is optimized with oneAPI Deep Neural Network Library (oneDNN) to use the following CPU instructions in performance-critical operations:  SSE3 SSE4.1 SSE4.2 AVX\n",
      "To enable them in other operations, rebuild TensorFlow with the appropriate compiler flags.\n",
      "2022-11-17 04:35:20.197584: I tensorflow/stream_executor/cuda/cuda_gpu_executor.cc:991] successful NUMA node read from SysFS had negative value (-1), but there must be at least one NUMA node, so returning NUMA node zero\n",
      "2022-11-17 04:35:20.197802: I tensorflow/stream_executor/cuda/cuda_gpu_executor.cc:991] successful NUMA node read from SysFS had negative value (-1), but there must be at least one NUMA node, so returning NUMA node zero\n",
      "2022-11-17 04:35:20.197959: I tensorflow/stream_executor/cuda/cuda_gpu_executor.cc:991] successful NUMA node read from SysFS had negative value (-1), but there must be at least one NUMA node, so returning NUMA node zero\n",
      "2022-11-17 04:35:20.198258: I tensorflow/stream_executor/cuda/cuda_gpu_executor.cc:991] successful NUMA node read from SysFS had negative value (-1), but there must be at least one NUMA node, so returning NUMA node zero\n",
      "2022-11-17 04:35:20.198427: I tensorflow/stream_executor/cuda/cuda_gpu_executor.cc:991] successful NUMA node read from SysFS had negative value (-1), but there must be at least one NUMA node, so returning NUMA node zero\n",
      "2022-11-17 04:35:20.198589: I tensorflow/stream_executor/cuda/cuda_gpu_executor.cc:991] successful NUMA node read from SysFS had negative value (-1), but there must be at least one NUMA node, so returning NUMA node zero\n",
      "2022-11-17 04:35:20.198707: I tensorflow/core/common_runtime/gpu/gpu_device.cc:1532] Created device /job:localhost/replica:0/task:0/device:GPU:0 with 24576 MB memory:  -> device: 0, name: Quadro RTX 8000, pci bus id: 0000:08:00.0, compute capability: 7.5\n"
     ]
    },
    {
     "data": {
      "text/plain": [
       "({'userId': <tf.Tensor: shape=(65536, 1), dtype=int64, numpy=\n",
       "  array([[111208],\n",
       "         [ 59913],\n",
       "         [100414],\n",
       "         ...,\n",
       "         [ 27555],\n",
       "         [109201],\n",
       "         [ 17079]])>,\n",
       "  'movieId': <tf.Tensor: shape=(65536, 1), dtype=int64, numpy=\n",
       "  array([[ 3147],\n",
       "         [  720],\n",
       "         [ 6323],\n",
       "         ...,\n",
       "         [54001],\n",
       "         [ 4741],\n",
       "         [  176]])>,\n",
       "  'timestamp': <tf.Tensor: shape=(65536, 1), dtype=int64, numpy=\n",
       "  array([[1042574829],\n",
       "         [ 942771101],\n",
       "         [1512676937],\n",
       "         ...,\n",
       "         [1546671026],\n",
       "         [1159806446],\n",
       "         [1134331535]])>,\n",
       "  'rating': <tf.Tensor: shape=(65536, 1), dtype=float64, numpy=\n",
       "  array([[5. ],\n",
       "         [3. ],\n",
       "         [5. ],\n",
       "         ...,\n",
       "         [3.5],\n",
       "         [4. ],\n",
       "         [3. ]])>},\n",
       " None)"
      ]
     },
     "execution_count": 5,
     "metadata": {},
     "output_type": "execute_result"
    }
   ],
   "source": [
    "batch = next(iter(loader))\n",
    "batch"
   ]
  },
  {
   "cell_type": "markdown",
   "id": "b792a92d",
   "metadata": {},
   "source": [
    "TensorFlow Kera's .fit function expects to receive the data as a tuple (x, y), with x being the input features and y the label. We need to provide this information to the dataloader. We can add a custom function to convert the data into the tuple with `process_batch`."
   ]
  },
  {
   "cell_type": "code",
   "execution_count": 8,
   "id": "34f1b32d",
   "metadata": {},
   "outputs": [],
   "source": [
    "label_column = 'rating'\n",
    "\n",
    "def process_batch(data, _):\n",
    "    x = {col: data[col] for col in data.keys() if col != label_column}\n",
    "    y = data[label_column]\n",
    "    \n",
    "    return (x, y)\n",
    "\n",
    "loader._map_fns = [process_batch]"
   ]
  },
  {
   "cell_type": "markdown",
   "id": "542a4d4f",
   "metadata": {},
   "source": [
    "We now have the data in the shape that `Tensorflow` expects."
   ]
  },
  {
   "cell_type": "code",
   "execution_count": 9,
   "id": "a9759b33",
   "metadata": {},
   "outputs": [
    {
     "data": {
      "text/plain": [
       "({'userId': <tf.Tensor: shape=(65536, 1), dtype=int64, numpy=\n",
       "  array([[133215],\n",
       "         [ 63771],\n",
       "         [124305],\n",
       "         ...,\n",
       "         [ 76047],\n",
       "         [159437],\n",
       "         [ 47031]])>,\n",
       "  'movieId': <tf.Tensor: shape=(65536, 1), dtype=int64, numpy=\n",
       "  array([[  6708],\n",
       "         [  3508],\n",
       "         [  4776],\n",
       "         ...,\n",
       "         [  1041],\n",
       "         [134130],\n",
       "         [  1206]])>,\n",
       "  'timestamp': <tf.Tensor: shape=(65536, 1), dtype=int64, numpy=\n",
       "  array([[1264438970],\n",
       "         [ 979501739],\n",
       "         [1020625494],\n",
       "         ...,\n",
       "         [ 852098936],\n",
       "         [1463533940],\n",
       "         [1479396371]])>},\n",
       " <tf.Tensor: shape=(65536, 1), dtype=float64, numpy=\n",
       " array([[3.5],\n",
       "        [5. ],\n",
       "        [1. ],\n",
       "        ...,\n",
       "        [4. ],\n",
       "        [3. ],\n",
       "        [4. ]])>)"
      ]
     },
     "execution_count": 9,
     "metadata": {},
     "output_type": "execute_result"
    }
   ],
   "source": [
    "batch = next(iter(loader))\n",
    "batch"
   ]
  },
  {
   "cell_type": "markdown",
   "id": "af193bd9",
   "metadata": {},
   "source": [
    "Let us now construct a simple MatrixFactorization model and train for a single epoch."
   ]
  },
  {
   "cell_type": "code",
   "execution_count": 10,
   "id": "89d9a22c",
   "metadata": {},
   "outputs": [],
   "source": [
    "class MatrixFactorization(tf.keras.Model):\n",
    "    def __init__(self, n_factors):\n",
    "        super().__init__()\n",
    "        self.user_embeddings = tf.keras.layers.Embedding(ratings['userId'].max(), n_factors)\n",
    "        self.movie_embeddings = tf.keras.layers.Embedding(ratings['movieId'].max(), n_factors)\n",
    "        \n",
    "    def call(self, batch, training=False):\n",
    "        user_embs = self.user_embeddings(batch['userId'])\n",
    "        movie_embs = self.movie_embeddings(batch['movieId'])\n",
    "        \n",
    "        tensor = (tf.squeeze(user_embs) * tf.squeeze(movie_embs))\n",
    "        return tf.reduce_sum(tensor, 1)"
   ]
  },
  {
   "cell_type": "code",
   "execution_count": 11,
   "id": "561e5ec5",
   "metadata": {},
   "outputs": [],
   "source": [
    "model = MatrixFactorization(64)\n",
    "model.compile(optimizer=tf.keras.optimizers.Adam(1e-2), loss=tf.keras.losses.MeanSquaredError())"
   ]
  },
  {
   "cell_type": "markdown",
   "id": "73fa759a",
   "metadata": {},
   "source": [
    "Let us now train for a single epoch."
   ]
  },
  {
   "cell_type": "code",
   "execution_count": 14,
   "id": "1724838e",
   "metadata": {},
   "outputs": [
    {
     "name": "stdout",
     "output_type": "stream",
     "text": [
      "382/382 [==============================] - 4s 8ms/step - loss: 0.6449\n"
     ]
    },
    {
     "data": {
      "text/plain": [
       "<keras.callbacks.History at 0x7ff57fe13910>"
      ]
     },
     "execution_count": 14,
     "metadata": {},
     "output_type": "execute_result"
    }
   ],
   "source": [
    "model.fit(loader, epochs=1)"
   ]
  },
  {
   "cell_type": "code",
   "execution_count": 15,
   "id": "eb3519ca",
   "metadata": {},
   "outputs": [
    {
     "name": "stdout",
     "output_type": "stream",
     "text": [
      "382/382 [==============================] - 1s 2ms/step - loss: 0.5442\n"
     ]
    },
    {
     "data": {
      "text/plain": [
       "0.5441851615905762"
      ]
     },
     "execution_count": 15,
     "metadata": {},
     "output_type": "execute_result"
    }
   ],
   "source": [
    "model.evaluate(loader)"
   ]
  },
  {
   "cell_type": "markdown",
   "id": "d3d97fe2",
   "metadata": {},
   "source": [
    "## Conclusion\n",
    "\n",
    "We demonstrated how to train a TensorFlow Keras model with Merlin dataloader. Merlin dataloader can accelerate existing TensorFlow pipelines with minimal code changes. \n",
    "\n",
    "# Next Steps\n",
    "\n",
    "Merlin dataloader is part of NVIDIA Merlin, a open source framework for recommender systems. In this example, we looked only on a specific use-case to accelerate existing training pipelines. We provide more libraries to make recommender system pipelines easier:\n",
    "\n",
    "* [NVTabular](https://github.com/NVIDIA-Merlin/NVTabular) is a library to accelerate and scale feature engineering\n",
    "* [Merlin Models](https://github.com/NVIDIA-Merlin/models) is a library with high-quality implementations of popular recommender systems architectures\n",
    "\n",
    "The libraries are designed to work closely together. We recommend to check out our exmaples:\n",
    "\n",
    "* [Getting Started with NVTabular: Process Tabular Data On GPU](https://github.com/NVIDIA-Merlin/NVTabular/blob/main/examples/01-Getting-started.ipynb)\n",
    "* [Getting Started with Merlin Models: Develop a Model for MovieLens](https://github.com/NVIDIA-Merlin/models/blob/main/examples/01-Getting-started.ipynb)\n",
    "\n",
    "In the example, [From ETL to Training RecSys models - NVTabular and Merlin Models integrated example](https://github.com/NVIDIA-Merlin/models/blob/main/examples/02-Merlin-Models-and-NVTabular-integration.ipynb), we explain how the close collaboration works."
   ]
  }
 ],
 "metadata": {
  "kernelspec": {
   "display_name": "Python 3 (ipykernel)",
   "language": "python",
   "name": "python3"
  },
  "language_info": {
   "codemirror_mode": {
    "name": "ipython",
    "version": 3
   },
   "file_extension": ".py",
   "mimetype": "text/x-python",
   "name": "python",
   "nbconvert_exporter": "python",
   "pygments_lexer": "ipython3",
   "version": "3.8.10"
  },
  "merlin": {
   "containers": [
    "nvcr.io/nvidia/merlin/merlin-tensorflow:latest"
   ]
  }
 },
 "nbformat": 4,
 "nbformat_minor": 5
}
