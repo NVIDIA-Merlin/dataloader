{
 "cells": [
  {
   "cell_type": "code",
   "execution_count": 1,
   "id": "bb28e271",
   "metadata": {},
   "outputs": [],
   "source": [
    "# Copyright 2022 NVIDIA Corporation. All Rights Reserved.\n",
    "#\n",
    "# Licensed under the Apache License, Version 2.0 (the \"License\");\n",
    "# you may not use this file except in compliance with the License.\n",
    "# You may obtain a copy of the License at\n",
    "#\n",
    "#     http://www.apache.org/licenses/LICENSE-2.0\n",
    "#\n",
    "# Unless required by applicable law or agreed to in writing, software\n",
    "# distributed under the License is distributed on an \"AS IS\" BASIS,\n",
    "# WITHOUT WARRANTIES OR CONDITIONS OF ANY KIND, either express or implied.\n",
    "# See the License for the specific language governing permissions and\n",
    "# limitations under the License.\n",
    "# =============================================================================="
   ]
  },
  {
   "cell_type": "markdown",
   "id": "77464844",
   "metadata": {},
   "source": [
    "<img src=\"http://developer.download.nvidia.com/notebooks/dlsw-notebooks/merlindataloader02-multi-gpu-tensorflow-with-horovod/nvidia_logo.png\" style=\"width: 90px; float: right;\">\n",
    "\n",
    "# Multi-GPU training with Tensorflow and Horovod\n",
    "\n",
    "This notebook is created using the latest stable [merlin-tensorflow](https://catalog.ngc.nvidia.com/orgs/nvidia/teams/merlin/containers/merlin-tensorflow) container.\n",
    "\n",
    "## Overview\n",
    "\n",
    "In this notebook we will look at multi-GPU training with Tensorflow and Horovod. [Horovod](https://horovod.ai/) is a distributed deep learning framework that aims to make distributed deep learning fast and easy to use.\n",
    "\n",
    "In this example, we will provide a simple pipeline to train a MatrixFactorization Model in TensorFlow on multiple GPUs (for the example we will use two but this method can be easily extended to use more).\n",
    "\n",
    "### Learning objectives\n",
    "\n",
    "- Training on multiple GPUs with Merlind Dataloader and Horovod."
   ]
  },
  {
   "cell_type": "markdown",
   "id": "1c5598ae",
   "metadata": {},
   "source": [
    "# Downloading and preparing the dataset\n",
    "\n",
    "We will base our example on the  [MovieLens25M](https://grouplens.org/datasets/movielens/25m/) dataset."
   ]
  },
  {
   "cell_type": "code",
   "execution_count": 2,
   "id": "edd46306",
   "metadata": {},
   "outputs": [],
   "source": [
    "import os\n",
    "\n",
    "from merlin.core.utils import download_file\n",
    "from merlin.core.dispatch import get_lib"
   ]
  },
  {
   "cell_type": "code",
   "execution_count": 3,
   "id": "591f8c61",
   "metadata": {},
   "outputs": [
    {
     "name": "stderr",
     "output_type": "stream",
     "text": [
      "downloading ml-25m.zip: 262MB [00:10, 24.4MB/s]                                                                                                                         \n",
      "unzipping files: 100%|█████████████████████████████████████████████████████████████████████████████████████████████████████████████████| 8/8 [00:04<00:00,  1.60files/s]\n"
     ]
    }
   ],
   "source": [
    "DATA_PATH = os.environ.get(\"DATA_PATH\", os.path.expanduser(\"~/workspace\"))\n",
    "download_file(\"http://files.grouplens.org/datasets/movielens/ml-25m.zip\", DATA_PATH + \"/ml-25m.zip\")"
   ]
  },
  {
   "cell_type": "markdown",
   "id": "abc70934",
   "metadata": {},
   "source": [
    "# Training a TensorFlow Keras Model with Merlin dataloader and Horovod"
   ]
  },
  {
   "cell_type": "markdown",
   "id": "f0b46668",
   "metadata": {},
   "source": [
    "This example can be scaled to running on as many GPUs as you would like.\n",
    "\n",
    "In this example, we will implement data parallel training. Each GPU will have an exact copy of our model, however it will train on different subsets of data.\n",
    "\n",
    "Let's us split our train data into as many parquet files as are needed."
   ]
  },
  {
   "cell_type": "code",
   "execution_count": 4,
   "id": "c65e5ef6",
   "metadata": {},
   "outputs": [],
   "source": [
    "GPU_COUNT = 2  # specify how many GPUs you would like to train on\n",
    "\n",
    "ratings = get_lib().read_csv(DATA_PATH + \"/ml-25m/ratings.csv\")\n",
    "\n",
    "ratings.to_parquet(os.path.join(DATA_PATH, \"train.parquet\"))"
   ]
  },
  {
   "cell_type": "markdown",
   "id": "8b9a65b4",
   "metadata": {},
   "source": [
    "Let us now take a closer look at what else we will need to train with Horovod.\n",
    "\n",
    "### Write the training script to a file\n",
    "\n",
    "We need to have a `.py` file we will be able to load into each process using `horovodrun`.\n",
    "\n",
    "### Set `CUDA visible devices` correctly inside each process\n",
    "\n",
    "We need to set the visible device in each process to its `rank`. This way process with `rank 0` will use the zeroth GPU, process with `rank 1` will use the first GPU, and so on. This ensures that each worker can access only a single GPU."
   ]
  },
  {
   "cell_type": "code",
   "execution_count": 5,
   "id": "9fbe17a7",
   "metadata": {},
   "outputs": [
    {
     "name": "stdout",
     "output_type": "stream",
     "text": [
      "Overwriting ./tf_trainer.py\n"
     ]
    }
   ],
   "source": [
    "%%writefile \"./tf_trainer.py\"\n",
    "\n",
    "import os\n",
    "\n",
    "# the order of statements and imports is imoportant\n",
    "# for instance, we need to make sure we set\n",
    "# CUDA_VISIBLE_DEVICES before we import Loader and cudf\n",
    "\n",
    "MPI_SIZE = int(os.getenv(\"OMPI_COMM_WORLD_SIZE\"))\n",
    "MPI_RANK = int(os.getenv(\"OMPI_COMM_WORLD_RANK\"))\n",
    "\n",
    "os.environ[\"CUDA_VISIBLE_DEVICES\"] = str(MPI_RANK)\n",
    "\n",
    "\n",
    "from merlin.io import Dataset\n",
    "\n",
    "import tensorflow as tf\n",
    "import horovod.tensorflow as hvd\n",
    "\n",
    "from merlin.core.dispatch import get_lib\n",
    "\n",
    "os.environ[\"TF_GPU_ALLOCATOR\"] = \"cuda_malloc_async\"\n",
    "\n",
    "hvd.init()\n",
    "\n",
    "from merlin.loader.tensorflow import Loader\n",
    "\n",
    "\n",
    "DATA_PATH = os.getenv(\"DATA_PATH\", os.path.expanduser(\"~/workspace\"))\n",
    "\n",
    "dataset = Dataset(os.path.join(DATA_PATH, \"train.parquet\"))\n",
    "dataset = dataset.repartition(MPI_SIZE)\n",
    "\n",
    "loader = Loader(\n",
    "    dataset,\n",
    "    batch_size=64 * 1024,\n",
    "    global_size=MPI_SIZE,\n",
    "    global_rank=MPI_RANK,\n",
    "    device=MPI_RANK,\n",
    ")\n",
    "\n",
    "label_column = 'rating'\n",
    "\n",
    "\n",
    "def process_batch(data, _):\n",
    "    x = {col: data[col] for col in data.keys() if col != label_column}\n",
    "    y = data[label_column]\n",
    "    return (x, y)\n",
    "\n",
    "\n",
    "loader._map_fns = [process_batch]\n",
    "\n",
    "\n",
    "class MatrixFactorization(tf.keras.Model):\n",
    "    def __init__(self, n_factors):\n",
    "        super().__init__()\n",
    "        self.user_embeddings = tf.keras.layers.Embedding(162542, n_factors)\n",
    "        self.movie_embeddings = tf.keras.layers.Embedding(209172, n_factors)\n",
    "\n",
    "    def call(self, batch, training=False):\n",
    "        user_embs = self.user_embeddings(batch['userId'])\n",
    "        movie_embs = self.movie_embeddings(batch['movieId'])\n",
    "\n",
    "        tensor = (tf.squeeze(user_embs) * tf.squeeze(movie_embs))\n",
    "        return tf.reduce_sum(tensor, 1)\n",
    "\n",
    "\n",
    "model = MatrixFactorization(64)\n",
    "loss = tf.keras.losses.MeanSquaredError()\n",
    "opt = tf.optimizers.Adam(1e-2 * hvd.size())\n",
    "\n",
    "checkpoint_prefix = \"./checkpoints\"\n",
    "checkpoint = tf.train.Checkpoint(model=model, optimizer=opt)\n",
    "\n",
    "\n",
    "@tf.function\n",
    "def training_step(features, labels, first_batch):\n",
    "    with tf.GradientTape() as tape:\n",
    "        probs = model(features, training=True)\n",
    "        loss_value = loss(labels, probs)\n",
    "\n",
    "    # Horovod: add Horovod Distributed GradientTape.\n",
    "    tape = hvd.DistributedGradientTape(tape)\n",
    "\n",
    "    grads = tape.gradient(loss_value, model.trainable_variables)\n",
    "    opt.apply_gradients(zip(grads, model.trainable_variables))\n",
    "\n",
    "    # Horovod: broadcast initial variable states from rank 0 to all other processes.\n",
    "    # This is necessary to ensure consistent initialization of all workers when\n",
    "    # training is started with random weights or restored from a checkpoint.\n",
    "    #\n",
    "    # Note: broadcast should be done after the first gradient step to ensure optimizer\n",
    "    # initialization.\n",
    "    if first_batch:\n",
    "        hvd.broadcast_variables(model.variables, root_rank=0)\n",
    "        hvd.broadcast_variables(opt.variables(), root_rank=0)\n",
    "\n",
    "    return loss_value\n",
    "\n",
    "\n",
    "# Horovod: adjust number of steps based on number of GPUs.\n",
    "for batch, (features, labels) in enumerate(loader):\n",
    "    loss_value = training_step(features, labels, batch == 0)\n",
    "\n",
    "    if batch % 10 == 0 and hvd.rank() == 0:\n",
    "        print('Step #%d\\tLoss: %.6f' % (batch, loss_value))\n",
    "\n",
    "hvd.join()\n",
    "\n",
    "# Horovod: save checkpoints only on worker 0 to prevent other workers from\n",
    "# corrupting it.\n",
    "if hvd.rank() == 0:\n",
    "    checkpoint.save(checkpoint_prefix)"
   ]
  },
  {
   "cell_type": "markdown",
   "id": "d45ca4b5",
   "metadata": {},
   "source": [
    "We now can run our distributed training using `horovodrun`!\n",
    "\n",
    "All we need to do is provide the number of GPUs we would like to run on and the script to execute."
   ]
  },
  {
   "cell_type": "code",
   "execution_count": 6,
   "id": "ec5e9b7f",
   "metadata": {
    "scrolled": true
   },
   "outputs": [
    {
     "name": "stdout",
     "output_type": "stream",
     "text": [
      "2023-06-03 21:35:18.892140: I tensorflow/core/util/port.cc:110] oneDNN custom operations are on. You may see slightly different numerical results due to floating-point round-off errors from different computation orders. To turn them off, set the environment variable `TF_ENABLE_ONEDNN_OPTS=0`.\n",
      "2023-06-03 21:35:18.932879: I tensorflow/core/platform/cpu_feature_guard.cc:183] This TensorFlow binary is optimized to use available CPU instructions in performance-critical operations.\n",
      "To enable the following instructions: SSE3 SSE4.1 SSE4.2 AVX, in other operations, rebuild TensorFlow with the appropriate compiler flags.\n",
      "[1,1]<stderr>:2023-06-03 21:35:23.549563: I tensorflow/core/util/port.cc:110] oneDNN custom operations are on. You may see slightly different numerical results due to floating-point round-off errors from different computation orders. To turn them off, set the environment variable `TF_ENABLE_ONEDNN_OPTS=0`.\n",
      "[1,0]<stderr>:2023-06-03 21:35:23.568539: I tensorflow/core/util/port.cc:110] oneDNN custom operations are on. You may see slightly different numerical results due to floating-point round-off errors from different computation orders. To turn them off, set the environment variable `TF_ENABLE_ONEDNN_OPTS=0`.\n",
      "[1,1]<stderr>:2023-06-03 21:35:23.592349: I tensorflow/core/platform/cpu_feature_guard.cc:183] This TensorFlow binary is optimized to use available CPU instructions in performance-critical operations.\n",
      "[1,1]<stderr>:To enable the following instructions: SSE3 SSE4.1 SSE4.2 AVX, in other operations, rebuild TensorFlow with the appropriate compiler flags.\n",
      "[1,0]<stderr>:2023-06-03 21:35:23.609861: I tensorflow/core/platform/cpu_feature_guard.cc:183] This TensorFlow binary is optimized to use available CPU instructions in performance-critical operations.\n",
      "[1,0]<stderr>:To enable the following instructions: SSE3 SSE4.1 SSE4.2 AVX, in other operations, rebuild TensorFlow with the appropriate compiler flags.\n",
      "[1,1]<stderr>:2023-06-03 21:35:28.092241: I tensorflow/core/common_runtime/gpu/gpu_process_state.cc:226] Using CUDA malloc Async allocator for GPU: 0\n",
      "[1,1]<stderr>:2023-06-03 21:35:28.092336: I tensorflow/core/common_runtime/gpu/gpu_device.cc:1638] Created device /job:localhost/replica:0/task:0/device:GPU:0 with 24337 MB memory:  -> device: 0, name: NVIDIA RTX A6000, pci bus id: 0000:b3:00.0, compute capability: 8.6\n",
      "[1,0]<stderr>:2023-06-03 21:35:28.141988: I tensorflow/core/common_runtime/gpu/gpu_process_state.cc:226] Using CUDA malloc Async allocator for GPU: 0\n",
      "[1,0]<stderr>:2023-06-03 21:35:28.142076: I tensorflow/core/common_runtime/gpu/gpu_device.cc:1638] Created device /job:localhost/replica:0/task:0/device:GPU:0 with 24338 MB memory:  -> device: 0, name: NVIDIA RTX A6000, pci bus id: 0000:17:00.0, compute capability: 8.6\n",
      "[1,0]<stderr>:2023-06-03 21:35:32.089463: I tensorflow/compiler/xla/service/service.cc:169] XLA service 0x7f1150020480 initialized for platform CUDA (this does not guarantee that XLA will be used). Devices:\n",
      "[1,0]<stderr>:2023-06-03 21:35:32.089532: I tensorflow/compiler/xla/service/service.cc:177]   StreamExecutor device (0): NVIDIA RTX A6000, Compute Capability 8.6\n",
      "[1,1]<stderr>:2023-06-03 21:35:32.089552: I tensorflow/compiler/xla/service/service.cc:169] XLA service 0x79f8590 initialized for platform CUDA (this does not guarantee that XLA will be used). Devices:\n",
      "[1,1]<stderr>:2023-06-03 21:35:32.089613: I tensorflow/compiler/xla/service/service.cc:177]   StreamExecutor device (0): NVIDIA RTX A6000, Compute Capability 8.6\n",
      "[1,1]<stderr>:2023-06-03 21:35:32.101885: I tensorflow/compiler/mlir/tensorflow/utils/dump_mlir_util.cc:269] disabling MLIR crash reproducer, set env var `MLIR_CRASH_REPRODUCER_DIRECTORY` to enable.\n",
      "[1,0]<stderr>:2023-06-03 21:35:32.102268: I tensorflow/compiler/mlir/tensorflow/utils/dump_mlir_util.cc:269] disabling MLIR crash reproducer, set env var `MLIR_CRASH_REPRODUCER_DIRECTORY` to enable.\n",
      "[1,1]<stderr>:2023-06-03 21:35:33.637854: I tensorflow/compiler/xla/stream_executor/cuda/cuda_dnn.cc:424] Loaded cuDNN version 8900\n",
      "[1,0]<stderr>:2023-06-03 21:35:33.648275: I tensorflow/compiler/xla/stream_executor/cuda/cuda_dnn.cc:424] Loaded cuDNN version 8900\n",
      "[1,1]<stderr>:2023-06-03 21:35:33.834015: I ./tensorflow/compiler/jit/device_compiler.h:180] Compiled cluster using XLA!  This line is logged at most once for the lifetime of the process.\n",
      "[1,0]<stderr>:2023-06-03 21:35:33.854743: I ./tensorflow/compiler/jit/device_compiler.h:180] Compiled cluster using XLA!  This line is logged at most once for the lifetime of the process.\n",
      "[1,0]<stdout>:Step #0\tLoss: 13.976147\n",
      "[1,0]<stdout>:Step #10\tLoss: 13.746956\n",
      "[1,0]<stdout>:Step #20\tLoss: 13.907515\n",
      "[1,0]<stdout>:Step #30\tLoss: 14.084653\n",
      "[1,0]<stdout>:Step #40\tLoss: 13.346972\n",
      "[1,0]<stdout>:Step #50\tLoss: 13.931261\n",
      "[1,0]<stdout>:Step #60\tLoss: 13.707795\n",
      "[1,0]<stdout>:Step #70\tLoss: 13.510033\n",
      "[1,0]<stdout>:Step #80\tLoss: 13.372274\n",
      "[1,0]<stdout>:Step #90\tLoss: 13.713926\n",
      "[1,0]<stdout>:Step #100\tLoss: 13.236437\n",
      "[1,0]<stdout>:Step #110\tLoss: 13.265822\n",
      "[1,0]<stdout>:Step #120\tLoss: 13.991277\n",
      "[1,0]<stdout>:Step #130\tLoss: 14.069466\n",
      "[1,0]<stdout>:Step #140\tLoss: 13.635876\n",
      "[1,0]<stdout>:Step #150\tLoss: 13.416016\n",
      "[1,0]<stdout>:Step #160\tLoss: 13.216636\n",
      "[1,0]<stdout>:Step #170\tLoss: 12.776440\n",
      "[1,0]<stdout>:Step #180\tLoss: 13.570569\n",
      "[1,0]<stdout>:Step #190\tLoss: 13.868576\n",
      "[1,1]<stderr>:/usr/local/lib/python3.8/dist-packages/merlin/dtypes/mappings/torch.py:43: UserWarning: PyTorch dtype mappings did not load successfully due to an error: No module named 'torch'\n",
      "[1,1]<stderr>:  warn(f\"PyTorch dtype mappings did not load successfully due to an error: {exc.msg}\")\n",
      "[1,0]<stderr>:/usr/local/lib/python3.8/dist-packages/merlin/dtypes/mappings/torch.py:43: UserWarning: PyTorch dtype mappings did not load successfully due to an error: No module named 'torch'\n",
      "[1,0]<stderr>:  warn(f\"PyTorch dtype mappings did not load successfully due to an error: {exc.msg}\")\n"
     ]
    }
   ],
   "source": [
    "!horovodrun -np {GPU_COUNT} python tf_trainer.py"
   ]
  },
  {
   "cell_type": "markdown",
   "id": "d3d97fe2",
   "metadata": {},
   "source": [
    "## Conclusion\n",
    "\n",
    "We demonstrated how to train a TensorFlow Keras model with the Merlin dataloader on multiple GPUs using Horovod.\n",
    "\n",
    "# Next Steps\n",
    "\n",
    "Merlin dataloader is part of NVIDIA Merlin, a open source framework for recommender systems. In this example, we looked only on a specific use-case to accelerate existing training pipelines. We provide more libraries to make recommender system pipelines easier and faster to work with:\n",
    "\n",
    "* [NVTabular](https://github.com/NVIDIA-Merlin/NVTabular) is a library to accelerate and scale feature engineering\n",
    "* [Merlin Models](https://github.com/NVIDIA-Merlin/models) is a library with high-quality implementations of popular recommender systems architectures\n",
    "\n",
    "The libraries are designed to work closely together. We recommend to check out our examples:\n",
    "\n",
    "* [Getting Started with NVTabular: Process Tabular Data On GPU](https://github.com/NVIDIA-Merlin/NVTabular/blob/main/examples/01-Getting-started.ipynb)\n",
    "* [Getting Started with Merlin Models: Develop a Model for MovieLens](https://github.com/NVIDIA-Merlin/models/blob/main/examples/01-Getting-started.ipynb)\n",
    "\n",
    "In the example, [From ETL to Training RecSys models - NVTabular and Merlin Models integrated example](https://github.com/NVIDIA-Merlin/models/blob/main/examples/02-Merlin-Models-and-NVTabular-integration.ipynb), we explain how the close collaboration works."
   ]
  }
 ],
 "metadata": {
  "kernelspec": {
   "display_name": "Python 3 (ipykernel)",
   "language": "python",
   "name": "python3"
  },
  "language_info": {
   "codemirror_mode": {
    "name": "ipython",
    "version": 3
   },
   "file_extension": ".py",
   "mimetype": "text/x-python",
   "name": "python",
   "nbconvert_exporter": "python",
   "pygments_lexer": "ipython3",
   "version": "3.8.10"
  }
 },
 "nbformat": 4,
 "nbformat_minor": 5
}
